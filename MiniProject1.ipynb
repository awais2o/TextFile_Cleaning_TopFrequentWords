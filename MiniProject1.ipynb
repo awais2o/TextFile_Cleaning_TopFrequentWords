{
 "cells": [
  {
   "cell_type": "code",
   "execution_count": 1,
   "id": "a6244863",
   "metadata": {},
   "outputs": [],
   "source": [
    "import string\n",
    "import re\n",
    "import unicodedata\n",
    "import string\n",
    "import numpy as np\n"
   ]
  },
  {
   "cell_type": "code",
   "execution_count": 2,
   "id": "e7c9c6d3",
   "metadata": {},
   "outputs": [],
   "source": [
    "def clean_text(text):\n",
    "    # Remove Non-Ascii Characters\n",
    "    text = text.encode(\"ascii\", \"ignore\").decode(\"utf-8\")\n",
    "\n",
    "    # Remove Non-Printable Characters\n",
    "    text = ''.join([c for c in text if c.isprintable()])\n",
    "\n",
    "    # Remove Accents\n",
    "    text = unicodedata.normalize('NFKD', text).encode('ascii', 'ignore').decode('utf-8')\n",
    "\n",
    "    # Remove extra spaces, tabs, and newline\n",
    "    text = re.sub(r'\\s+', ' ', text)\n",
    "\n",
    "    # Remove Punctuation\n",
    "    text = text.translate(str.maketrans('', '', string.punctuation))\n",
    "\n",
    "    # Remove Hyperlinks\n",
    "    text = re.sub(r'http\\S+', '', text)\n",
    "\n",
    "    return text\n",
    "\n"
   ]
  },
  {
   "cell_type": "code",
   "execution_count": 3,
   "id": "775a2793",
   "metadata": {},
   "outputs": [
    {
     "name": "stdout",
     "output_type": "stream",
     "text": [
      "enter file location from present working directory! \n",
      "including files/file.txt\n"
     ]
    }
   ],
   "source": [
    "file=input('enter file location from present working directory! \\n')\n",
    "file= open('including files/file.txt', 'r') \n",
    "content = file.read()\n"
   ]
  },
  {
   "cell_type": "code",
   "execution_count": 4,
   "id": "fbe568fc",
   "metadata": {
    "scrolled": true
   },
   "outputs": [],
   "source": [
    "cleaned=clean_text(content)"
   ]
  },
  {
   "cell_type": "code",
   "execution_count": 5,
   "id": "af193923",
   "metadata": {
    "scrolled": true
   },
   "outputs": [],
   "source": [
    "list_of_words=cleaned.split()"
   ]
  },
  {
   "cell_type": "code",
   "execution_count": 6,
   "id": "3dfc6533",
   "metadata": {},
   "outputs": [],
   "source": [
    "frequency={};\n",
    "for word in list_of_words:\n",
    "    if word in frequency:\n",
    "        frequency[word]+=1\n",
    "    else:\n",
    "        frequency[word]=1"
   ]
  },
  {
   "cell_type": "code",
   "execution_count": 7,
   "id": "dce6f381",
   "metadata": {},
   "outputs": [
    {
     "name": "stdout",
     "output_type": "stream",
     "text": [
      "No of top frequent words !5\n"
     ]
    }
   ],
   "source": [
    "\n",
    "n=input('No of top frequent words !')\n",
    "top_data = sorted(frequency.items(), key=lambda item: item[1], reverse=True)[:5]"
   ]
  },
  {
   "cell_type": "code",
   "execution_count": 8,
   "id": "1ca82eea",
   "metadata": {},
   "outputs": [
    {
     "data": {
      "text/plain": [
       "array([['the', '26'],\n",
       "       ['of', '13'],\n",
       "       ['a', '13'],\n",
       "       ['and', '10'],\n",
       "       ['with', '9']], dtype='<U11')"
      ]
     },
     "execution_count": 8,
     "metadata": {},
     "output_type": "execute_result"
    }
   ],
   "source": [
    "arr=np.array(top_data)\n",
    "arr"
   ]
  }
 ],
 "metadata": {
  "kernelspec": {
   "display_name": "Python 3 (ipykernel)",
   "language": "python",
   "name": "python3"
  },
  "language_info": {
   "codemirror_mode": {
    "name": "ipython",
    "version": 3
   },
   "file_extension": ".py",
   "mimetype": "text/x-python",
   "name": "python",
   "nbconvert_exporter": "python",
   "pygments_lexer": "ipython3",
   "version": "3.10.9"
  }
 },
 "nbformat": 4,
 "nbformat_minor": 5
}
